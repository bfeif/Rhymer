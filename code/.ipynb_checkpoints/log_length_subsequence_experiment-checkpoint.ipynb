{
 "cells": [
  {
   "cell_type": "raw",
   "metadata": {},
   "source": [
    "the goal of these experiments to explore a particular hypothesis.\n",
    "I hypothesize that the length of the longest common subsequence of two words varies as the logarithm of the lengths of the two words\n",
    "This is useful to explore because it will help to develop the correct similarity metric"
   ]
  },
  {
   "cell_type": "code",
   "execution_count": 1,
   "metadata": {},
   "outputs": [
    {
     "name": "stdout",
     "output_type": "stream",
     "text": [
      "['K', 'AH0', 'L']\n"
     ]
    }
   ],
   "source": [
    "import utils\n",
    "import pandas as pd\n",
    "import random\n",
    "import numpy as np\n",
    "import matplotlib.pyplot as plt\n",
    "%matplotlib inline\n",
    "\n",
    "# load each line of the data\n",
    "data = open('../data/cmudict.dict').readlines()\n",
    "\n",
    "# convert to word/sequence pairs:\n",
    "splitted = [i.replace('\\n', '').split(' ') for i in data]\n",
    "word_seq_pairs = {i[0]: i[1:] for i in splitted}\n",
    "\n",
    "# get largest subsequence of two words\n",
    "word1 = 'tickle'\n",
    "word2 = 'follicle'\n",
    "substring = utils.longest_common_substring(word_seq_pairs[word1], word_seq_pairs[word2])\n",
    "print(substring)"
   ]
  },
  {
   "cell_type": "raw",
   "metadata": {},
   "source": [
    "get scatter plot observations where:\n",
    "\n",
    "let exist word1, word2, sub\n",
    "x-axis = average length of word1 and word2\n",
    "y-axis = length of sub\n",
    "a point on this plot"
   ]
  },
  {
   "cell_type": "code",
   "execution_count": 10,
   "metadata": {},
   "outputs": [],
   "source": [
    "# get all observations\n",
    "num_obs = 10000\n",
    "x = np.zeros((num_obs,))\n",
    "y = np.zeros((num_obs,))\n",
    "for i in range(num_obs):\n",
    "    \n",
    "    # randomly select two words\n",
    "    [word1, word2] = random.sample(list(word_seq_pairs.keys()), k=2)\n",
    "    \n",
    "    # get the words' syllable sequences\n",
    "    seq1, seq2 = word_seq_pairs[word1], word_seq_pairs[word2]\n",
    "    \n",
    "    # store result\n",
    "    x[i] = np.mean([len(seq1), len(seq2)])\n",
    "    y[i] = len(utils.longest_common_substring(seq1, seq2))"
   ]
  },
  {
   "cell_type": "raw",
   "metadata": {},
   "source": [
    "make plot"
   ]
  },
  {
   "cell_type": "code",
   "execution_count": 11,
   "metadata": {},
   "outputs": [
    {
     "data": {
      "image/png": "[encoded data removed]",
      "text/plain": [
       "<matplotlib.figure.Figure at 0x7f01e52e8898>"
      ]
     },
     "metadata": {},
     "output_type": "display_data"
    }
   ],
   "source": [
    "plt.scatter(x, y)\n",
    "plt.xlabel('word average length')\n",
    "plt.ylabel('longest matching subsequence length')\n",
    "plt.title('is it logarithmic?')\n",
    "plt.show()\n"
   ]
  },
  {
   "cell_type": "raw",
   "metadata": {},
   "source": [
    "this is not the correct way to visualize this..."
   ]
  }
 ],
 "metadata": {
  "kernelspec": {
   "display_name": "Python 3",
   "language": "python",
   "name": "python3"
  },
  "language_info": {
   "codemirror_mode": {
    "name": "ipython",
    "version": 3
   },
   "file_extension": ".py",
   "mimetype": "text/x-python",
   "name": "python",
   "nbconvert_exporter": "python",
   "pygments_lexer": "ipython3",
   "version": "3.6.4"
  }
 },
 "nbformat": 4,
 "nbformat_minor": 2
}
